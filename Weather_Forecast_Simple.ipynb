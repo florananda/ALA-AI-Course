{
  "nbformat": 4,
  "nbformat_minor": 0,
  "metadata": {
    "colab": {
      "provenance": [],
      "authorship_tag": "ABX9TyMHDbpUyE0C8pFlME94Z8bv",
      "include_colab_link": true
    },
    "kernelspec": {
      "name": "python3",
      "display_name": "Python 3"
    },
    "language_info": {
      "name": "python"
    }
  },
  "cells": [
    {
      "cell_type": "markdown",
      "metadata": {
        "id": "view-in-github",
        "colab_type": "text"
      },
      "source": [
        "<a href=\"https://colab.research.google.com/github/florananda/ALA-AI-Course/blob/main/Weather_Forecast_Simple.ipynb\" target=\"_parent\"><img src=\"https://colab.research.google.com/assets/colab-badge.svg\" alt=\"Open In Colab\"/></a>"
      ]
    },
    {
      "cell_type": "code",
      "execution_count": null,
      "metadata": {
        "id": "ueYVRLz5Yg5C"
      },
      "outputs": [],
      "source": [
        "import requests\n",
        "\n",
        "def fetch_weather(api_key, city):\n",
        "    \"\"\" Fetch weather data from OpenWeatherMap API \"\"\"\n",
        "    base_url = \"http://api.openweathermap.org/data/2.5/weather?\"\n",
        "    city_name = city\n",
        "    complete_url = base_url + \"appid=\" + api_key + \"&q=\" + city_name\n",
        "    response = requests.get(complete_url)\n",
        "    return response.json()\n",
        "def interpret_data(weather_data):\n",
        "    \"\"\" Interpret and display weather data \"\"\"\n",
        "    if weather_data['cod'] != 404:\n",
        "        main_data = weather_data['main']\n",
        "        temperature = main_data['temp']\n",
        "        pressure = main_data['pressure']\n",
        "        humidity = main_data['humidity']\n",
        "        print(f\"Temperature: {temperature} K\")\n",
        "        print(f\"Pressure: {pressure} hPa\")\n",
        "        print(f\"Humidity: {humidity}%\")\n",
        "        # ... add more data to display if you wish\n",
        "    else:\n",
        "        print(\"City Not Found\")\n",
        "def simple_forecast(weather_data):\n",
        "    \"\"\" Basic weather forecasting logic \"\"\"\n",
        "    if weather_data['weather'][0]['main'] == 'Rain':\n",
        "        print(\"It might rain tomorrow as well.\")\n",
        "    else:\n",
        "        print(\"Tomorrow's weather looks clear.\")\n",
        "def main():\n",
        "    api_key = \"081099c1a174b658ad76dafc97f073f0\"  # Replace with your OpenWeatherMap API key\n",
        "    city = input(\"Enter city name: \")\n",
        "    weather_data = fetch_weather(api_key, city)\n",
        "    interpret_data(weather_data)\n",
        "    simple_forecast(weather_data)\n",
        "if __name__ == \"__main__\":\n",
        "    main()"
      ]
    },
    {
      "cell_type": "code",
      "source": [],
      "metadata": {
        "id": "weAVJd2Xmfiz"
      },
      "execution_count": null,
      "outputs": []
    }
  ]
}