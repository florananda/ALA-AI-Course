{
  "nbformat": 4,
  "nbformat_minor": 0,
  "metadata": {
    "colab": {
      "provenance": [],
      "authorship_tag": "ABX9TyNI6yGt1Rj2wJ0Itqx1eUsh",
      "include_colab_link": true
    },
    "kernelspec": {
      "name": "python3",
      "display_name": "Python 3"
    },
    "language_info": {
      "name": "python"
    }
  },
  "cells": [
    {
      "cell_type": "markdown",
      "metadata": {
        "id": "view-in-github",
        "colab_type": "text"
      },
      "source": [
        "<a href=\"https://colab.research.google.com/github/florananda/ALA-AI-Course/blob/main/Print_Odd_Or_Even_2.ipynb\" target=\"_parent\"><img src=\"https://colab.research.google.com/assets/colab-badge.svg\" alt=\"Open In Colab\"/></a>"
      ]
    },
    {
      "cell_type": "code",
      "execution_count": 12,
      "metadata": {
        "colab": {
          "base_uri": "https://localhost:8080/"
        },
        "id": "d3ZgTe0wdpOs",
        "outputId": "631106ca-4d10-47b9-a9bc-5326ab614add"
      },
      "outputs": [
        {
          "output_type": "stream",
          "name": "stdout",
          "text": [
            "1  is odd\n",
            "2  is even\n",
            "3  is odd\n",
            "4  is even\n",
            "5  is odd\n",
            "6  is even\n",
            "7  is odd\n",
            "8  is even\n",
            "9  is odd\n",
            "10  is even\n",
            "11  is odd\n",
            "12  is even\n",
            "13  is odd\n",
            "14  is even\n",
            "15  is odd\n",
            "16  is even\n",
            "17  is odd\n",
            "18  is even\n",
            "19  is odd\n",
            "20  is even\n",
            "21  is odd\n",
            "22  is even\n",
            "23  is odd\n",
            "24  is even\n",
            "25  is odd\n",
            "26  is even\n",
            "27  is odd\n",
            "28  is even\n",
            "29  is odd\n",
            "30  is even\n",
            "31  is odd\n",
            "32  is even\n",
            "33  is odd\n",
            "34  is even\n",
            "35  is odd\n",
            "36  is even\n",
            "37  is odd\n",
            "38  is even\n",
            "39  is odd\n"
          ]
        }
      ],
      "source": [
        "for num in range(0,40):\n",
        "  if num !=0:\n",
        "    if num%2 ==0:\n",
        "      print (num, \" is even\")\n",
        "    else:\n",
        "      print (num, \" is odd\")\n",
        "#print(\"this is outside of the loop\", num)\n"
      ]
    }
  ]
}